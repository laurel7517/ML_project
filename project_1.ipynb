{
  "nbformat": 4,
  "nbformat_minor": 0,
  "metadata": {
    "colab": {
      "name": "project.ipynb",
      "provenance": [],
      "collapsed_sections": []
    },
    "kernelspec": {
      "name": "python3",
      "display_name": "Python 3"
    }
  },
  "cells": [
    {
      "cell_type": "markdown",
      "metadata": {
        "id": "maUbaMAT5eEu"
      },
      "source": [
        "Importing libraries"
      ]
    },
    {
      "cell_type": "code",
      "metadata": {
        "id": "2zwmmXKMyL0z"
      },
      "source": [
        "import numpy as np\r\n",
        "import pandas as pd\r\n",
        "import zipfile\r\n",
        "import matplotlib.pyplot as plt\r\n",
        "import os, fnmatch\r\n",
        "import librosa\r\n",
        "from sklearn.preprocessing import LabelEncoder"
      ],
      "execution_count": 8,
      "outputs": []
    },
    {
      "cell_type": "markdown",
      "metadata": {
        "id": "x7ZgsdSN5hpV"
      },
      "source": [
        "Unzip dataset"
      ]
    },
    {
      "cell_type": "code",
      "metadata": {
        "id": "qNHQi1RG0Q2I"
      },
      "source": [
        "!unzip '/content/Strings.zip'"
      ],
      "execution_count": null,
      "outputs": []
    },
    {
      "cell_type": "markdown",
      "metadata": {
        "id": "iGbP6MJq5LBG"
      },
      "source": [
        "Getting the filename of audio"
      ]
    },
    {
      "cell_type": "code",
      "metadata": {
        "colab": {
          "base_uri": "https://localhost:8080/"
        },
        "id": "6PTrIo17ymo3",
        "outputId": "09237b54-8e36-4275-bf34-6a831e85f62e"
      },
      "source": [
        "path='/content/Strings'\r\n",
        "\r\n",
        "files = []\r\n",
        "for root, dirnames, filenames in os.walk(path):\r\n",
        "    for filename in fnmatch.filter(filenames, '*.mp3'):\r\n",
        "        files.append(os.path.join(root, filename))\r\n",
        "\r\n",
        "print(\"found %d audio files in %s\"%(len(files),path))"
      ],
      "execution_count": 9,
      "outputs": [
        {
          "output_type": "stream",
          "text": [
            "found 4476 audio files in /content/Strings\n"
          ],
          "name": "stdout"
        }
      ]
    },
    {
      "cell_type": "markdown",
      "metadata": {
        "id": "3xJY_ouo5Ry9"
      },
      "source": [
        "Giving instrument labels to files"
      ]
    },
    {
      "cell_type": "code",
      "metadata": {
        "id": "Pl7QKTjXytrX"
      },
      "source": [
        "labels =[]\r\n",
        "classes=['banjo','cello','double bass','guitar','mandolin','viola','violin']\r\n",
        "\r\n",
        "for filename in files:\r\n",
        "    for name in classes:\r\n",
        "        if fnmatch.fnmatchcase(filename, '*'+name+'*'):\r\n",
        "            labels.append(name)\r\n",
        "            break\r\n",
        "    else:\r\n",
        "        labels.append('other')"
      ],
      "execution_count": 10,
      "outputs": []
    },
    {
      "cell_type": "code",
      "metadata": {
        "colab": {
          "base_uri": "https://localhost:8080/"
        },
        "id": "kODpVoFPzY_P",
        "outputId": "4d74787b-3afe-49cb-e169-3486c41823f7"
      },
      "source": [
        "labelencoder = LabelEncoder()\r\n",
        "labelencoder.fit(labels)\r\n",
        "print(len(labelencoder.classes_), \"classes:\", \", \".join(list(labelencoder.classes_)))\r\n",
        "classes_num = labelencoder.transform(labels)"
      ],
      "execution_count": 11,
      "outputs": [
        {
          "output_type": "stream",
          "text": [
            "7 classes: banjo, cello, double bass, guitar, mandolin, viola, violin\n"
          ],
          "name": "stdout"
        }
      ]
    },
    {
      "cell_type": "markdown",
      "metadata": {
        "id": "0Xkz6W7V5tjl"
      },
      "source": [
        "Extracting audio features with Librosa"
      ]
    },
    {
      "cell_type": "code",
      "metadata": {
        "id": "FjvvioVszoyB"
      },
      "source": [
        "fs = 44100        # Sampling Frequency\r\n",
        "#n_fft = 2048       # length of the FFT window\r\n",
        "#hop_length = n_fft/2   # Number of samples between successive frames\r\n",
        "n_mels = 128       # Number of Mel bands\r\n",
        "n_mfcc = 13        # Number of MFCCs"
      ],
      "execution_count": 12,
      "outputs": []
    },
    {
      "cell_type": "code",
      "metadata": {
        "colab": {
          "base_uri": "https://localhost:8080/"
        },
        "id": "YOP1gOEszqVM",
        "outputId": "140572ce-7176-4d57-ab22-98ef56c6a0e4"
      },
      "source": [
        "def get_features(y, sr=fs):\r\n",
        "    S = librosa.feature.melspectrogram(y, sr=fs, n_mels=n_mels)\r\n",
        "    mfcc = librosa.feature.mfcc(S=librosa.power_to_db(S), n_mfcc=n_mfcc)\r\n",
        "    feature_vector = np.mean(mfcc,axis = 1)\r\n",
        "    return feature_vector\r\n",
        "\r\n",
        "feature_vectors = []\r\n",
        "sound_paths = []\r\n",
        "for i,f in enumerate(files):\r\n",
        "    try:\r\n",
        "        y, sr = librosa.load(f, sr=fs)\r\n",
        "        y/=y.max() #Normalize\r\n",
        "        if len(y) < 2:\r\n",
        "            print(\"Error loading %s\" % f)\r\n",
        "            continue\r\n",
        "        feat = get_features(y, sr)\r\n",
        "        feature_vectors.append(feat)\r\n",
        "        sound_paths.append(f)\r\n",
        "    except Exception as e:\r\n",
        "        print(\"Error loading %s. Error: %s\" % (f,e))\r\n",
        "        \r\n",
        "print(\"Calculated %d feature vectors\"%len(feature_vectors))"
      ],
      "execution_count": 13,
      "outputs": [
        {
          "output_type": "stream",
          "text": [
            "Calculated 4476 feature vectors\n"
          ],
          "name": "stdout"
        }
      ]
    },
    {
      "cell_type": "code",
      "metadata": {
        "colab": {
          "base_uri": "https://localhost:8080/"
        },
        "id": "WPt00GqRlHag",
        "outputId": "0e5ebab9-3db7-48ff-f7b2-9c2b294227ad"
      },
      "source": [
        "from sklearn.preprocessing import StandardScaler\r\n",
        "from sklearn.model_selection import StratifiedShuffleSplit\r\n",
        "scaler = StandardScaler()\r\n",
        "scaled_feature_vectors = scaler.fit_transform(np.array(feature_vectors))\r\n",
        "print(\"Feature vectors shape:\",scaled_feature_vectors.shape)\r\n",
        "scaled_feature_vectors\r\n"
      ],
      "execution_count": 14,
      "outputs": [
        {
          "output_type": "stream",
          "text": [
            "Feature vectors shape: (4476, 13)\n"
          ],
          "name": "stdout"
        },
        {
          "output_type": "execute_result",
          "data": {
            "text/plain": [
              "array([[ 1.13752051, -1.22905804, -1.5040446 , ...,  1.3917994 ,\n",
              "         1.21782931, -0.33539414],\n",
              "       [-0.88631766, -1.1354585 , -0.45266144, ..., -0.57363876,\n",
              "        -0.590416  , -1.10848115],\n",
              "       [ 0.77099964, -1.3020459 , -1.22250578, ..., -1.80449392,\n",
              "        -1.07052008, -0.801783  ],\n",
              "       ...,\n",
              "       [-2.24572775, -0.96771343,  1.43028155, ..., -0.34050457,\n",
              "        -0.19655643,  0.09804066],\n",
              "       [-2.13989141, -0.99428981,  1.26419533, ..., -0.47813802,\n",
              "        -0.03022125,  0.67837291],\n",
              "       [-1.07001607,  0.4030392 ,  2.14655337, ..., -0.30433681,\n",
              "        -0.11130324,  0.55303559]])"
            ]
          },
          "metadata": {
            "tags": []
          },
          "execution_count": 14
        }
      ]
    },
    {
      "cell_type": "code",
      "metadata": {
        "id": "orALO4xUmOkK"
      },
      "source": [
        "splitter = StratifiedShuffleSplit(n_splits=1, test_size=0.25, random_state=0)\r\n",
        "splits = splitter.split(scaled_feature_vectors, classes_num)\r\n",
        "for train_index, test_index in splits:\r\n",
        "    Xtr = scaled_feature_vectors[train_index]\r\n",
        "    Xts = scaled_feature_vectors[test_index]\r\n",
        "    ytr = classes_num[train_index]\r\n",
        "    yts = classes_num[test_index]"
      ],
      "execution_count": 15,
      "outputs": []
    },
    {
      "cell_type": "markdown",
      "metadata": {
        "id": "4IKONDk0i-dq"
      },
      "source": [
        " Building a Neural Network Classifier"
      ]
    },
    {
      "cell_type": "code",
      "metadata": {
        "id": "_AGd_hGVIPcJ"
      },
      "source": [
        "from tensorflow.keras.models import Model, Sequential\r\n",
        "from tensorflow.keras.layers import Dense, Activation\r\n",
        "\r\n",
        "import tensorflow.keras.backend as K\r\n",
        "K.clear_session()\r\n"
      ],
      "execution_count": 16,
      "outputs": []
    },
    {
      "cell_type": "code",
      "metadata": {
        "colab": {
          "base_uri": "https://localhost:8080/"
        },
        "id": "xuOWOqTDemAU",
        "outputId": "bbb50057-4d34-4f5f-c34e-141758ec27b9"
      },
      "source": [
        "nin = Xtr.shape[1]\r\n",
        "nout = np.max(ytr)+1\r\n",
        "nh = 256\r\n",
        "\r\n",
        "model = Sequential()\r\n",
        "model.add(Dense(nh, input_shape=(nin,), activation='sigmoid', name='hidden'))\r\n",
        "model.add(Dense(nout, activation='softmax', name='output'))\r\n",
        "model.summary()"
      ],
      "execution_count": 17,
      "outputs": [
        {
          "output_type": "stream",
          "text": [
            "Model: \"sequential\"\n",
            "_________________________________________________________________\n",
            "Layer (type)                 Output Shape              Param #   \n",
            "=================================================================\n",
            "hidden (Dense)               (None, 256)               3584      \n",
            "_________________________________________________________________\n",
            "output (Dense)               (None, 7)                 1799      \n",
            "=================================================================\n",
            "Total params: 5,383\n",
            "Trainable params: 5,383\n",
            "Non-trainable params: 0\n",
            "_________________________________________________________________\n"
          ],
          "name": "stdout"
        }
      ]
    },
    {
      "cell_type": "markdown",
      "metadata": {
        "id": "vNbeULvvmkUX"
      },
      "source": [
        "Create an optimizer and compile the model"
      ]
    },
    {
      "cell_type": "code",
      "metadata": {
        "id": "stzPv-1zesUU"
      },
      "source": [
        "from tensorflow.keras import optimizers\r\n",
        "opt = optimizers.Adam(lr=0.001)\r\n",
        "model.compile(optimizer=opt,loss='sparse_categorical_crossentropy',metrics=['accuracy'])"
      ],
      "execution_count": 18,
      "outputs": []
    },
    {
      "cell_type": "code",
      "metadata": {
        "colab": {
          "base_uri": "https://localhost:8080/"
        },
        "id": "fDIq3cQ3fcNs",
        "outputId": "72d944ce-39d9-4f91-8215-64b14608d824"
      },
      "source": [
        "hist = model.fit(Xtr, ytr, epochs=10, batch_size=100,validation_data=(Xts,yts))"
      ],
      "execution_count": 19,
      "outputs": [
        {
          "output_type": "stream",
          "text": [
            "Epoch 1/10\n",
            "34/34 [==============================] - 0s 6ms/step - loss: 1.4845 - accuracy: 0.4465 - val_loss: 1.2384 - val_accuracy: 0.6148\n",
            "Epoch 2/10\n",
            "34/34 [==============================] - 0s 2ms/step - loss: 1.1091 - accuracy: 0.6822 - val_loss: 1.0195 - val_accuracy: 0.6783\n",
            "Epoch 3/10\n",
            "34/34 [==============================] - 0s 2ms/step - loss: 0.9347 - accuracy: 0.7283 - val_loss: 0.8919 - val_accuracy: 0.7158\n",
            "Epoch 4/10\n",
            "34/34 [==============================] - 0s 2ms/step - loss: 0.8217 - accuracy: 0.7510 - val_loss: 0.7956 - val_accuracy: 0.7328\n",
            "Epoch 5/10\n",
            "34/34 [==============================] - 0s 2ms/step - loss: 0.7397 - accuracy: 0.7685 - val_loss: 0.7252 - val_accuracy: 0.7408\n",
            "Epoch 6/10\n",
            "34/34 [==============================] - 0s 2ms/step - loss: 0.6748 - accuracy: 0.7834 - val_loss: 0.6698 - val_accuracy: 0.7542\n",
            "Epoch 7/10\n",
            "34/34 [==============================] - 0s 2ms/step - loss: 0.6249 - accuracy: 0.7954 - val_loss: 0.6242 - val_accuracy: 0.7712\n",
            "Epoch 8/10\n",
            "34/34 [==============================] - 0s 2ms/step - loss: 0.5840 - accuracy: 0.8126 - val_loss: 0.5881 - val_accuracy: 0.7855\n",
            "Epoch 9/10\n",
            "34/34 [==============================] - 0s 2ms/step - loss: 0.5529 - accuracy: 0.8204 - val_loss: 0.5570 - val_accuracy: 0.7945\n",
            "Epoch 10/10\n",
            "34/34 [==============================] - 0s 2ms/step - loss: 0.5257 - accuracy: 0.8296 - val_loss: 0.5303 - val_accuracy: 0.8061\n"
          ],
          "name": "stdout"
        }
      ]
    },
    {
      "cell_type": "code",
      "metadata": {
        "colab": {
          "base_uri": "https://localhost:8080/",
          "height": 296
        },
        "id": "YMaKnepTfkA-",
        "outputId": "139625ce-32b3-4e74-e71a-ba3acd54f435"
      },
      "source": [
        "val_acc = hist.history['val_accuracy']\r\n",
        "nepochs = len(val_acc)\r\n",
        "plt.plot(np.arange(1,nepochs+1), val_acc, 'o-', linewidth=2)\r\n",
        "plt.grid()\r\n",
        "plt.xlabel('Epoch')\r\n",
        "plt.ylabel('Test accuracy')"
      ],
      "execution_count": 20,
      "outputs": [
        {
          "output_type": "execute_result",
          "data": {
            "text/plain": [
              "Text(0, 0.5, 'Test accuracy')"
            ]
          },
          "metadata": {
            "tags": []
          },
          "execution_count": 20
        },
        {
          "output_type": "display_data",
          "data": {
            "image/png": "[encoded data removed]",
            "text/plain": [
              "<Figure size 432x288 with 1 Axes>"
            ]
          },
          "metadata": {
            "tags": [],
            "needs_background": "light"
          }
        }
      ]
    },
    {
      "cell_type": "code",
      "metadata": {
        "colab": {
          "base_uri": "https://localhost:8080/",
          "height": 297
        },
        "id": "kLnQ0Grm06i-",
        "outputId": "fefda1ba-aad9-4bb7-91bf-788cef4d2aec"
      },
      "source": [
        "loss = hist.history['loss']\r\n",
        "plt.semilogy(np.arange(1,nepochs+1), loss, 'o-')\r\n",
        "plt.xlabel('Epochs', fontsize=16)\r\n",
        "plt.ylabel('Loss', fontsize=16)\r\n",
        "plt.grid()\r\n",
        "plt.tight_layout()"
      ],
      "execution_count": 21,
      "outputs": [
        {
          "output_type": "display_data",
          "data": {
            "image/png": "[encoded data removed]",
            "text/plain": [
              "<Figure size 432x288 with 1 Axes>"
            ]
          },
          "metadata": {
            "tags": [],
            "needs_background": "light"
          }
        }
      ]
    }
  ]
}